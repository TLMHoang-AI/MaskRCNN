{
 "cells": [
  {
   "cell_type": "markdown",
   "id": "3ab739b9",
   "metadata": {
    "papermill": {
     "duration": 0.006648,
     "end_time": "2025-06-25T05:43:58.990292",
     "exception": false,
     "start_time": "2025-06-25T05:43:58.983644",
     "status": "completed"
    },
    "tags": []
   },
   "source": [
    "### Data handling"
   ]
  },
  {
   "cell_type": "code",
   "execution_count": 1,
   "id": "5462bf43",
   "metadata": {
    "execution": {
     "iopub.execute_input": "2025-06-25T05:43:59.002008Z",
     "iopub.status.busy": "2025-06-25T05:43:59.001769Z",
     "iopub.status.idle": "2025-06-25T05:45:53.580613Z",
     "shell.execute_reply": "2025-06-25T05:45:53.579704Z"
    },
    "papermill": {
     "duration": 114.591553,
     "end_time": "2025-06-25T05:45:53.587389",
     "exception": false,
     "start_time": "2025-06-25T05:43:58.995836",
     "status": "completed"
    },
    "tags": []
   },
   "outputs": [
    {
     "name": "stdout",
     "output_type": "stream",
     "text": [
      "Cityscapes data copied to /kaggle/working/cityscapes\n"
     ]
    }
   ],
   "source": [
    "!rm -rf /kaggle/working/cityscapes\n",
    "!mkdir -p /kaggle/working/cityscapes/leftImg8bit/train\n",
    "!mkdir -p /kaggle/working/cityscapes/gtFine/train\n",
    "!mkdir -p /kaggle/working/cityscapes/leftImg8bit/val\n",
    "!mkdir -p /kaggle/working/cityscapes/gtFine/val\n",
    "\n",
    "!cp -r /kaggle/input/cityscapes/leftImg8bit_trainvaltest/leftImg8bit/train/aachen /kaggle/working/cityscapes/leftImg8bit/train/\n",
    "!cp -r /kaggle/input/cityscapes/gtFine_trainvaltest/gtFine/train/aachen /kaggle/working/cityscapes/gtFine/train/\n",
    "!cp -r /kaggle/input/cityscapes/leftImg8bit_trainvaltest/leftImg8bit/train/bremen /kaggle/working/cityscapes/leftImg8bit/train/\n",
    "!cp -r /kaggle/input/cityscapes/gtFine_trainvaltest/gtFine/train/bremen /kaggle/working/cityscapes/gtFine/train/\n",
    "!cp -r /kaggle/input/cityscapes/leftImg8bit_trainvaltest/leftImg8bit/train/hamburg /kaggle/working/cityscapes/leftImg8bit/train/\n",
    "!cp -r /kaggle/input/cityscapes/gtFine_trainvaltest/gtFine/train/hamburg /kaggle/working/cityscapes/gtFine/train/\n",
    "!cp -r /kaggle/input/cityscapes/leftImg8bit_trainvaltest/leftImg8bit/train/strasbourg /kaggle/working/cityscapes/leftImg8bit/train/\n",
    "!cp -r /kaggle/input/cityscapes/gtFine_trainvaltest/gtFine/train/strasbourg /kaggle/working/cityscapes/gtFine/train/\n",
    "!cp -r /kaggle/input/cityscapes/leftImg8bit_trainvaltest/leftImg8bit/train/stuttgart /kaggle/working/cityscapes/leftImg8bit/train/\n",
    "!cp -r /kaggle/input/cityscapes/gtFine_trainvaltest/gtFine/train/stuttgart /kaggle/working/cityscapes/gtFine/train/\n",
    "\n",
    "# Sao chép toàn bộ tập validation\n",
    "!cp -r /kaggle/input/cityscapes/leftImg8bit_trainvaltest/leftImg8bit/val/* /kaggle/working/cityscapes/leftImg8bit/val/\n",
    "!cp -r /kaggle/input/cityscapes/gtFine_trainvaltest/gtFine/val/* /kaggle/working/cityscapes/gtFine/val/\n",
    "print(\"Cityscapes data copied to /kaggle/working/cityscapes\")\n"
   ]
  },
  {
   "cell_type": "code",
   "execution_count": 2,
   "id": "f0890e93",
   "metadata": {
    "execution": {
     "iopub.execute_input": "2025-06-25T05:45:53.599186Z",
     "iopub.status.busy": "2025-06-25T05:45:53.598952Z",
     "iopub.status.idle": "2025-06-25T05:45:59.636208Z",
     "shell.execute_reply": "2025-06-25T05:45:59.635172Z"
    },
    "papermill": {
     "duration": 6.044766,
     "end_time": "2025-06-25T05:45:59.637721",
     "exception": false,
     "start_time": "2025-06-25T05:45:53.592955",
     "status": "completed"
    },
    "tags": []
   },
   "outputs": [],
   "source": [
    "!pip install -q pycocotools"
   ]
  },
  {
   "cell_type": "code",
   "execution_count": 3,
   "id": "4d2f5b0f",
   "metadata": {
    "execution": {
     "iopub.execute_input": "2025-06-25T05:45:59.650687Z",
     "iopub.status.busy": "2025-06-25T05:45:59.650441Z",
     "iopub.status.idle": "2025-06-25T05:45:59.708555Z",
     "shell.execute_reply": "2025-06-25T05:45:59.707946Z"
    },
    "papermill": {
     "duration": 0.066284,
     "end_time": "2025-06-25T05:45:59.709833",
     "exception": false,
     "start_time": "2025-06-25T05:45:59.643549",
     "status": "completed"
    },
    "tags": []
   },
   "outputs": [],
   "source": [
    "import os\n",
    "import json\n",
    "from PIL import Image\n",
    "from tqdm import tqdm\n",
    "\n",
    "def create_cityscapes_coco_json(data_root, set_type='val', output_file='cityscapes_val_coco_format.json'):\n",
    "    img_dir = os.path.join(data_root, 'leftImg8bit', set_type)\n",
    "    ann_dir = os.path.join(data_root, 'gtFine', set_type)\n",
    "    \n",
    "    CITYSCAPES_CLASSES = [\n",
    "        'person', 'rider', 'car', 'truck', 'bus', 'train', 'motorcycle', 'bicycle',\n",
    "        'road', 'sidewalk', 'building', 'wall', 'fence', 'pole', 'traffic light',\n",
    "        'traffic sign', 'vegetation', 'terrain', 'sky'\n",
    "    ]\n",
    "\n",
    "    def cityscapes_class_to_id(class_name):\n",
    "        try:\n",
    "            return CITYSCAPES_CLASSES.index(class_name) + 1\n",
    "        except ValueError:\n",
    "            return 0\n",
    "\n",
    "    print(f\"Starting conversion for '{set_type}' set...\")\n",
    "\n",
    "    coco_output = {\n",
    "        \"images\": [],\n",
    "        \"annotations\": [],\n",
    "        \"categories\": []\n",
    "    }\n",
    "\n",
    "    for i, class_name in enumerate(CITYSCAPES_CLASSES):\n",
    "        coco_output[\"categories\"].append({\n",
    "            \"id\": i + 1,\n",
    "            \"name\": class_name,\n",
    "            \"supercategory\": \"object\"\n",
    "        })\n",
    "\n",
    "    image_id_counter = 1\n",
    "    annotation_id_counter = 1\n",
    "\n",
    "    for city in tqdm(sorted(os.listdir(img_dir)), desc=\"Processing cities\"):\n",
    "        city_img_path = os.path.join(img_dir, city)\n",
    "        city_ann_path = os.path.join(ann_dir, city)\n",
    "        \n",
    "        if not os.path.isdir(city_img_path):\n",
    "            continue\n",
    "\n",
    "        for img_file in sorted(os.listdir(city_img_path)):\n",
    "            if not img_file.endswith('_leftImg8bit.png'):\n",
    "                continue\n",
    "            \n",
    "            img_path = os.path.join(city_img_path, img_file)\n",
    "            with Image.open(img_path) as img:\n",
    "                width, height = img.size\n",
    "            \n",
    "            image_info = {\n",
    "                \"id\": image_id_counter,\n",
    "                \"width\": width,\n",
    "                \"height\": height,\n",
    "                \"file_name\": os.path.join(city, img_file)\n",
    "            }\n",
    "            coco_output[\"images\"].append(image_info)\n",
    "            \n",
    "            ann_file = img_file.replace('_leftImg8bit.png', '_gtFine_polygons.json')\n",
    "            ann_path = os.path.join(city_ann_path, ann_file)\n",
    "            \n",
    "            if not os.path.exists(ann_path):\n",
    "                image_id_counter += 1\n",
    "                continue\n",
    "\n",
    "            with open(ann_path, 'r') as f:\n",
    "                ann_data = json.load(f)\n",
    "                \n",
    "            for obj in ann_data.get('objects', []):\n",
    "                category_id = cityscapes_class_to_id(obj.get('label'))\n",
    "                if category_id == 0:\n",
    "                    continue\n",
    "                    \n",
    "                poly = obj.get('polygon')\n",
    "                if not poly or len(poly) < 3:\n",
    "                    continue\n",
    "                \n",
    "                poly_flat = [coord for point in poly for coord in point]\n",
    "                x_coords = poly_flat[0::2]\n",
    "                y_coords = poly_flat[1::2]\n",
    "                x_min, y_min = min(x_coords), min(y_coords)\n",
    "                x_max, y_max = max(x_coords), max(y_coords)\n",
    "                \n",
    "                bbox = [x_min, y_min, x_max - x_min, y_max - y_min]\n",
    "                area = bbox[2] * bbox[3]\n",
    "\n",
    "                annotation_info = {\n",
    "                    \"id\": annotation_id_counter,\n",
    "                    \"image_id\": image_id_counter,\n",
    "                    \"category_id\": category_id,\n",
    "                    \"segmentation\": [poly_flat],\n",
    "                    \"area\": float(area),\n",
    "                    \"bbox\": [float(b) for b in bbox],\n",
    "                    \"iscrowd\": 0\n",
    "                }\n",
    "                coco_output[\"annotations\"].append(annotation_info)\n",
    "                annotation_id_counter += 1\n",
    "            \n",
    "            image_id_counter += 1\n",
    "\n",
    "    output_path = os.path.join(data_root, output_file)\n",
    "    with open(output_path, 'w') as f:\n",
    "        json.dump(coco_output, f)\n",
    "        \n",
    "    print(f\"\\nConversion complete!\")\n",
    "    print(f\"Total images: {len(coco_output['images'])}\")\n",
    "    print(f\"Total annotations: {len(coco_output['annotations'])}\")\n",
    "    print(f\"COCO format JSON file saved to: {output_path}\")"
   ]
  },
  {
   "cell_type": "code",
   "execution_count": 4,
   "id": "f182e522",
   "metadata": {
    "execution": {
     "iopub.execute_input": "2025-06-25T05:45:59.732276Z",
     "iopub.status.busy": "2025-06-25T05:45:59.732045Z",
     "iopub.status.idle": "2025-06-25T05:46:02.283459Z",
     "shell.execute_reply": "2025-06-25T05:46:02.282628Z"
    },
    "papermill": {
     "duration": 2.563203,
     "end_time": "2025-06-25T05:46:02.284619",
     "exception": false,
     "start_time": "2025-06-25T05:45:59.721416",
     "status": "completed"
    },
    "tags": []
   },
   "outputs": [
    {
     "name": "stdout",
     "output_type": "stream",
     "text": [
      "Starting conversion for 'val' set...\n"
     ]
    },
    {
     "name": "stderr",
     "output_type": "stream",
     "text": [
      "Processing cities: 100%|██████████| 3/3 [00:01<00:00,  2.15it/s]\n"
     ]
    },
    {
     "name": "stdout",
     "output_type": "stream",
     "text": [
      "\n",
      "Conversion complete!\n",
      "Total images: 500\n",
      "Total annotations: 33207\n",
      "COCO format JSON file saved to: /kaggle/working/cityscapes/cityscapes_val_coco_format.json\n",
      "Ready to set sail! Sire.\n"
     ]
    }
   ],
   "source": [
    "DATA_ROOT = \"/kaggle/working/cityscapes\"\n",
    "create_cityscapes_coco_json(data_root=DATA_ROOT, set_type='val', output_file='cityscapes_val_coco_format.json')\n",
    "print(\"Ready to set sail! Sire.\")"
   ]
  },
  {
   "cell_type": "markdown",
   "id": "884c2a79",
   "metadata": {
    "papermill": {
     "duration": 0.005843,
     "end_time": "2025-06-25T05:46:02.296569",
     "exception": false,
     "start_time": "2025-06-25T05:46:02.290726",
     "status": "completed"
    },
    "tags": []
   },
   "source": [
    "### Main pipeline"
   ]
  },
  {
   "cell_type": "code",
   "execution_count": 5,
   "id": "eda52a1f",
   "metadata": {
    "execution": {
     "iopub.execute_input": "2025-06-25T05:46:02.309015Z",
     "iopub.status.busy": "2025-06-25T05:46:02.308529Z",
     "iopub.status.idle": "2025-06-25T05:46:18.141794Z",
     "shell.execute_reply": "2025-06-25T05:46:18.141224Z"
    },
    "papermill": {
     "duration": 15.840992,
     "end_time": "2025-06-25T05:46:18.143205",
     "exception": false,
     "start_time": "2025-06-25T05:46:02.302213",
     "status": "completed"
    },
    "tags": []
   },
   "outputs": [],
   "source": [
    "import torch\n",
    "import torch.nn as nn\n",
    "import torch.nn.functional as F\n",
    "import torch.optim as optim\n",
    "from torch.utils.data import DataLoader, Dataset\n",
    "from torch.cuda.amp import GradScaler, autocast\n",
    "\n",
    "import torchvision\n",
    "from torchvision.transforms import ToTensor, Compose, RandomHorizontalFlip, Resize, Normalize\n",
    "from torchvision.transforms import functional as TF\n",
    "from torchvision.ops import roi_align, nms\n",
    "from torchvision.models import resnet50\n",
    "\n",
    "from pycocotools.coco import COCO\n",
    "from pycocotools.cocoeval import COCOeval\n",
    "from torchvision.ops import box_iou\n",
    "import pycocotools.mask as mask_util\n",
    "\n",
    "import matplotlib.pyplot as plt\n",
    "\n",
    "import numpy as np\n",
    "import math\n",
    "from PIL import Image, ImageDraw\n",
    "import os\n",
    "import json\n",
    "import random\n",
    "from tqdm import tqdm\n",
    "from torchvision.ops import box_iou\n",
    "from torchvision.ops import batched_nms"
   ]
  },
  {
   "cell_type": "code",
   "execution_count": 6,
   "id": "95aee9bf",
   "metadata": {
    "execution": {
     "iopub.execute_input": "2025-06-25T05:46:18.157312Z",
     "iopub.status.busy": "2025-06-25T05:46:18.156993Z",
     "iopub.status.idle": "2025-06-25T05:46:18.160297Z",
     "shell.execute_reply": "2025-06-25T05:46:18.159761Z"
    },
    "papermill": {
     "duration": 0.011945,
     "end_time": "2025-06-25T05:46:18.161353",
     "exception": false,
     "start_time": "2025-06-25T05:46:18.149408",
     "status": "completed"
    },
    "tags": []
   },
   "outputs": [],
   "source": [
    "os.environ[\"PYTORCH_CUDA_ALLOC_CONF\"] = \"expandable_segments:True\"\n",
    "os.environ[\"CUDA_LAUNCH_BLOCKING\"] = \"1\""
   ]
  },
  {
   "cell_type": "markdown",
   "id": "c4315048",
   "metadata": {
    "papermill": {
     "duration": 0.0053,
     "end_time": "2025-06-25T05:46:18.172373",
     "exception": false,
     "start_time": "2025-06-25T05:46:18.167073",
     "status": "completed"
    },
    "tags": []
   },
   "source": [
    "### Prepare data"
   ]
  },
  {
   "cell_type": "code",
   "execution_count": 7,
   "id": "5ce1f2f0",
   "metadata": {
    "execution": {
     "iopub.execute_input": "2025-06-25T05:46:18.184161Z",
     "iopub.status.busy": "2025-06-25T05:46:18.183893Z",
     "iopub.status.idle": "2025-06-25T05:46:18.187578Z",
     "shell.execute_reply": "2025-06-25T05:46:18.186929Z"
    },
    "papermill": {
     "duration": 0.010599,
     "end_time": "2025-06-25T05:46:18.188582",
     "exception": false,
     "start_time": "2025-06-25T05:46:18.177983",
     "status": "completed"
    },
    "tags": []
   },
   "outputs": [],
   "source": [
    "CITYSCAPES_CLASSES = [\n",
    "    'person', 'rider', 'car', 'truck', 'bus', 'train', 'motorcycle', 'bicycle',\n",
    "    'road', 'sidewalk', 'building', 'wall', 'fence', 'pole', 'traffic light',\n",
    "    'traffic sign', 'vegetation', 'terrain', 'sky'\n",
    "]\n",
    "NUM_CLASSES = len(CITYSCAPES_CLASSES) + 1"
   ]
  },
  {
   "cell_type": "code",
   "execution_count": 8,
   "id": "5c9e5447",
   "metadata": {
    "execution": {
     "iopub.execute_input": "2025-06-25T05:46:18.200609Z",
     "iopub.status.busy": "2025-06-25T05:46:18.200059Z",
     "iopub.status.idle": "2025-06-25T05:46:18.203503Z",
     "shell.execute_reply": "2025-06-25T05:46:18.202856Z"
    },
    "papermill": {
     "duration": 0.010379,
     "end_time": "2025-06-25T05:46:18.204514",
     "exception": false,
     "start_time": "2025-06-25T05:46:18.194135",
     "status": "completed"
    },
    "tags": []
   },
   "outputs": [],
   "source": [
    "def cityscapes_class_to_id(class_name):\n",
    "    try:\n",
    "        return CITYSCAPES_CLASSES.index(class_name) + 1\n",
    "    except ValueError:\n",
    "        return 0"
   ]
  },
  {
   "cell_type": "code",
   "execution_count": 9,
   "id": "e57b0b3a",
   "metadata": {
    "execution": {
     "iopub.execute_input": "2025-06-25T05:46:18.216757Z",
     "iopub.status.busy": "2025-06-25T05:46:18.216560Z",
     "iopub.status.idle": "2025-06-25T05:46:18.229195Z",
     "shell.execute_reply": "2025-06-25T05:46:18.228483Z"
    },
    "papermill": {
     "duration": 0.020083,
     "end_time": "2025-06-25T05:46:18.230325",
     "exception": false,
     "start_time": "2025-06-25T05:46:18.210242",
     "status": "completed"
    },
    "tags": []
   },
   "outputs": [],
   "source": [
    "class CityscapesMaskRCNNDataset(Dataset):\n",
    "    def __init__(self, root_dir, set_type='train', image_size=(800, 800)):\n",
    "        self.root_dir = root_dir\n",
    "        self.set_type = set_type\n",
    "        self.img_dir = os.path.join(root_dir, 'leftImg8bit', set_type)\n",
    "        self.ann_dir = os.path.join(root_dir, 'gtFine', set_type)\n",
    "        self.image_size = image_size\n",
    "\n",
    "        self.transforms = Compose([\n",
    "            Resize(self.image_size),\n",
    "            ToTensor(),\n",
    "            Normalize(mean=[0.485, 0.456, 0.406], std=[0.229, 0.224, 0.225]),\n",
    "        ])\n",
    "        \n",
    "        self.img_paths = []\n",
    "        self.ann_paths = []\n",
    "        for city in sorted(os.listdir(self.img_dir)):\n",
    "            city_img_path = os.path.join(self.img_dir, city)\n",
    "            city_ann_path = os.path.join(self.ann_dir, city)\n",
    "            for img_file in sorted(os.listdir(city_img_path)):\n",
    "                if img_file.endswith('_leftImg8bit.png'):\n",
    "                    img_path = os.path.join(city_img_path, img_file)\n",
    "                    ann_file = img_file.replace('_leftImg8bit.png', '_gtFine_polygons.json')\n",
    "                    ann_path = os.path.join(city_ann_path, ann_file)\n",
    "                    if os.path.exists(ann_path):\n",
    "                        self.img_paths.append(img_path)\n",
    "                        self.ann_paths.append(ann_path)\n",
    "\n",
    "        print(f\"Loaded {len(self.img_paths)} {set_type} images\")\n",
    "\n",
    "    def __len__(self):\n",
    "        return len(self.img_paths)\n",
    "\n",
    "    def __getitem__(self, index):\n",
    "        img_path = self.img_paths[index]\n",
    "        ann_path = self.ann_paths[index]\n",
    "\n",
    "        img = Image.open(img_path).convert(\"RGB\")\n",
    "        original_w, original_h = img.size\n",
    "\n",
    "        with open(ann_path, 'r') as f:\n",
    "            ann = json.load(f)\n",
    "\n",
    "        boxes = []\n",
    "        labels = []\n",
    "        masks_polygons = []\n",
    "\n",
    "        for obj in ann.get('objects', []):\n",
    "            label_id = cityscapes_class_to_id(obj.get('label'))\n",
    "            if label_id == 0: continue\n",
    "            poly = obj.get('polygon')\n",
    "            if not poly or len(poly) < 3: continue\n",
    "            \n",
    "            poly_flat = [coord for point in poly for coord in point]\n",
    "            x_coords, y_coords = poly_flat[0::2], poly_flat[1::2]\n",
    "            x1, y1 = min(x_coords), min(y_coords)\n",
    "            x2, y2 = max(x_coords), max(y_coords)\n",
    "\n",
    "            if x2 <= x1 or y2 <= y1: continue\n",
    "\n",
    "            boxes.append([x1, y1, x2, y2])\n",
    "            labels.append(label_id)\n",
    "            masks_polygons.append(poly)\n",
    "\n",
    "        if not boxes:\n",
    "            return self.__getitem__(random.randint(0, len(self) - 1))\n",
    "\n",
    "        boxes = torch.tensor(boxes, dtype=torch.float32)\n",
    "        labels = torch.tensor(labels, dtype=torch.int64)\n",
    "        \n",
    "        masks = []\n",
    "        for poly in masks_polygons:\n",
    "            mask = Image.new('L', (original_w, original_h), 0)\n",
    "            ImageDraw.Draw(mask).polygon([tuple(p) for p in poly], outline=1, fill=1)\n",
    "            masks.append(np.array(mask))\n",
    "        masks = torch.from_numpy(np.array(masks)).float()\n",
    "\n",
    "        if self.set_type == 'train' and random.random() > 0.5:\n",
    "            img = TF.hflip(img)\n",
    "            masks = TF.hflip(masks)\n",
    "            boxes[:, [0, 2]] = original_w - boxes[:, [2, 0]]\n",
    "\n",
    "        img_tensor = self.transforms(img)\n",
    "        h, w = self.image_size\n",
    "        \n",
    "        masks = TF.resize(masks, [28, 28], interpolation=TF.InterpolationMode.NEAREST)\n",
    "        \n",
    "        boxes[:, [0, 2]] *= (w / original_w)\n",
    "        boxes[:, [1, 3]] *= (h / original_h)\n",
    "        \n",
    "        target = {\n",
    "            'boxes': boxes,\n",
    "            'labels': labels,\n",
    "            'masks': masks,\n",
    "            'image_id': torch.tensor([index + 1]) \n",
    "        }\n",
    "\n",
    "        return {'image': img_tensor, 'target': target}"
   ]
  },
  {
   "cell_type": "code",
   "execution_count": 10,
   "id": "a28711cb",
   "metadata": {
    "execution": {
     "iopub.execute_input": "2025-06-25T05:46:18.242724Z",
     "iopub.status.busy": "2025-06-25T05:46:18.242180Z",
     "iopub.status.idle": "2025-06-25T05:46:18.246100Z",
     "shell.execute_reply": "2025-06-25T05:46:18.245434Z"
    },
    "papermill": {
     "duration": 0.011088,
     "end_time": "2025-06-25T05:46:18.247134",
     "exception": false,
     "start_time": "2025-06-25T05:46:18.236046",
     "status": "completed"
    },
    "tags": []
   },
   "outputs": [],
   "source": [
    "def collate_fn(batch):\n",
    "    batch = [item for item in batch if item is not None]\n",
    "    if not batch:\n",
    "        return None, None\n",
    "    images = [item['image'] for item in batch]\n",
    "    targets = [item['target'] for item in batch]\n",
    "    \n",
    "    return images, targets"
   ]
  },
  {
   "cell_type": "markdown",
   "id": "8609303b",
   "metadata": {
    "papermill": {
     "duration": 0.005471,
     "end_time": "2025-06-25T05:46:18.258321",
     "exception": false,
     "start_time": "2025-06-25T05:46:18.252850",
     "status": "completed"
    },
    "tags": []
   },
   "source": [
    "### Backbone Resnet50 + FPN"
   ]
  },
  {
   "cell_type": "code",
   "execution_count": 11,
   "id": "dc0e698c",
   "metadata": {
    "execution": {
     "iopub.execute_input": "2025-06-25T05:46:18.270132Z",
     "iopub.status.busy": "2025-06-25T05:46:18.269938Z",
     "iopub.status.idle": "2025-06-25T05:46:18.274638Z",
     "shell.execute_reply": "2025-06-25T05:46:18.273946Z"
    },
    "papermill": {
     "duration": 0.011823,
     "end_time": "2025-06-25T05:46:18.275646",
     "exception": false,
     "start_time": "2025-06-25T05:46:18.263823",
     "status": "completed"
    },
    "tags": []
   },
   "outputs": [],
   "source": [
    "class ResNetBackbone(nn.Module):\n",
    "    def __init__(self):\n",
    "        super().__init__()\n",
    "        resnet = resnet50(weights='IMAGENET1K_V2')\n",
    "        self.conv1 = resnet.conv1\n",
    "        self.bn1 = resnet.bn1\n",
    "        self.relu = resnet.relu\n",
    "        self.maxpool = resnet.maxpool\n",
    "        self.layer1 = resnet.layer1\n",
    "        self.layer2 = resnet.layer2\n",
    "        self.layer3 = resnet.layer3\n",
    "        self.layer4 = resnet.layer4\n",
    "\n",
    "    def forward(self, x):\n",
    "        x = self.conv1(x)\n",
    "        x = self.bn1(x)\n",
    "        x = self.relu(x)\n",
    "        c1 = self.maxpool(x)\n",
    "        c2 = self.layer1(c1)\n",
    "        c3 = self.layer2(c2)\n",
    "        c4 = self.layer3(c3)\n",
    "        c5 = self.layer4(c4)\n",
    "        return [c2, c3, c4, c5]"
   ]
  },
  {
   "cell_type": "code",
   "execution_count": 12,
   "id": "65ce91bc",
   "metadata": {
    "execution": {
     "iopub.execute_input": "2025-06-25T05:46:18.287763Z",
     "iopub.status.busy": "2025-06-25T05:46:18.287170Z",
     "iopub.status.idle": "2025-06-25T05:46:18.292575Z",
     "shell.execute_reply": "2025-06-25T05:46:18.292101Z"
    },
    "papermill": {
     "duration": 0.012589,
     "end_time": "2025-06-25T05:46:18.293760",
     "exception": false,
     "start_time": "2025-06-25T05:46:18.281171",
     "status": "completed"
    },
    "tags": []
   },
   "outputs": [],
   "source": [
    "class FPN(nn.Module):\n",
    "    def __init__(self, in_channels_list=[256, 512, 1024, 2048], out_channels=256):\n",
    "        super().__init__()\n",
    "        self.lateral_convs = nn.ModuleList([\n",
    "            nn.Conv2d(in_c, out_channels, 1) for in_c in in_channels_list\n",
    "        ])\n",
    "        self.output_convs = nn.ModuleList([\n",
    "            nn.Conv2d(out_channels, out_channels, 3, padding=1) for _ in in_channels_list\n",
    "        ])\n",
    "\n",
    "    def forward(self, c2, c3, c4, c5):\n",
    "        p5 = self.lateral_convs[3](c5)\n",
    "        p4 = self.lateral_convs[2](c4) + F.interpolate(p5, size=c4.shape[-2:], mode='nearest')\n",
    "        p3 = self.lateral_convs[1](c3) + F.interpolate(p4, size=c3.shape[-2:], mode='nearest')\n",
    "        p2 = self.lateral_convs[0](c2) + F.interpolate(p3, size=c2.shape[-2:], mode='nearest')\n",
    "        return [self.output_convs[i](p) for i, p in enumerate([p2, p3, p4, p5])]"
   ]
  },
  {
   "cell_type": "markdown",
   "id": "8d0d5213",
   "metadata": {
    "papermill": {
     "duration": 0.005442,
     "end_time": "2025-06-25T05:46:18.305657",
     "exception": false,
     "start_time": "2025-06-25T05:46:18.300215",
     "status": "completed"
    },
    "tags": []
   },
   "source": [
    "### Region proposal network"
   ]
  },
  {
   "cell_type": "code",
   "execution_count": 13,
   "id": "f74bc05c",
   "metadata": {
    "execution": {
     "iopub.execute_input": "2025-06-25T05:46:18.318105Z",
     "iopub.status.busy": "2025-06-25T05:46:18.317646Z",
     "iopub.status.idle": "2025-06-25T05:46:18.322127Z",
     "shell.execute_reply": "2025-06-25T05:46:18.321621Z"
    },
    "papermill": {
     "duration": 0.011917,
     "end_time": "2025-06-25T05:46:18.323160",
     "exception": false,
     "start_time": "2025-06-25T05:46:18.311243",
     "status": "completed"
    },
    "tags": []
   },
   "outputs": [],
   "source": [
    "class RPN(nn.Module):\n",
    "    def __init__(self, in_channels=256, num_anchors=3):\n",
    "        super(RPN, self).__init__()\n",
    "        self.num_anchors = num_anchors\n",
    "        self.conv = nn.Conv2d(in_channels, 512, kernel_size=3, padding=1)\n",
    "        self.cls = nn.Conv2d(512, num_anchors, kernel_size=1)\n",
    "        self.reg = nn.Conv2d(512, 4 * num_anchors, kernel_size=1)\n",
    "        self.relu = nn.ReLU(inplace=True)\n",
    "\n",
    "    def forward(self, x):\n",
    "        x = self.relu(self.conv(x))\n",
    "        scores = self.cls(x)\n",
    "        deltas = self.reg(x)\n",
    "        return scores, deltas"
   ]
  },
  {
   "cell_type": "code",
   "execution_count": 14,
   "id": "9b3e7764",
   "metadata": {
    "execution": {
     "iopub.execute_input": "2025-06-25T05:46:18.335415Z",
     "iopub.status.busy": "2025-06-25T05:46:18.335201Z",
     "iopub.status.idle": "2025-06-25T05:46:18.340211Z",
     "shell.execute_reply": "2025-06-25T05:46:18.339513Z"
    },
    "papermill": {
     "duration": 0.012369,
     "end_time": "2025-06-25T05:46:18.341255",
     "exception": false,
     "start_time": "2025-06-25T05:46:18.328886",
     "status": "completed"
    },
    "tags": []
   },
   "outputs": [],
   "source": [
    "class MaskHead(nn.Module):\n",
    "    def __init__(self, in_channels=256, num_classes=81):\n",
    "        super().__init__()\n",
    "        self.conv_blocks = nn.Sequential(\n",
    "            nn.Conv2d(in_channels, 256, 3, padding=1), nn.ReLU(),\n",
    "            nn.Conv2d(256, 256, 3, padding=1), nn.ReLU(),\n",
    "            nn.Conv2d(256, 256, 3, padding=1), nn.ReLU(),\n",
    "            nn.Conv2d(256, 256, 3, padding=1), nn.ReLU()\n",
    "        )\n",
    "        self.deconv = nn.ConvTranspose2d(256, 256, 2, stride=2)\n",
    "        self.mask_pred = nn.Conv2d(256, num_classes, 1)\n",
    "\n",
    "    def forward(self, x):\n",
    "        x = self.conv_blocks(x)\n",
    "        x = self.deconv(x)\n",
    "        return self.mask_pred(x)"
   ]
  },
  {
   "cell_type": "markdown",
   "id": "e8940409",
   "metadata": {
    "papermill": {
     "duration": 0.005854,
     "end_time": "2025-06-25T05:46:18.353012",
     "exception": false,
     "start_time": "2025-06-25T05:46:18.347158",
     "status": "completed"
    },
    "tags": []
   },
   "source": [
    "### Main mask rcnn"
   ]
  },
  {
   "cell_type": "code",
   "execution_count": 15,
   "id": "07f6eb85",
   "metadata": {
    "execution": {
     "iopub.execute_input": "2025-06-25T05:46:18.366090Z",
     "iopub.status.busy": "2025-06-25T05:46:18.365861Z",
     "iopub.status.idle": "2025-06-25T05:46:18.384726Z",
     "shell.execute_reply": "2025-06-25T05:46:18.384199Z"
    },
    "papermill": {
     "duration": 0.027043,
     "end_time": "2025-06-25T05:46:18.385896",
     "exception": false,
     "start_time": "2025-06-25T05:46:18.358853",
     "status": "completed"
    },
    "tags": []
   },
   "outputs": [],
   "source": [
    "class MaskRCNN(nn.Module):\n",
    "    def __init__(self, num_classes):\n",
    "        super().__init__()\n",
    "        # --- 1. Các thành phần của mô hình ---\n",
    "        self.backbone = ResNetBackbone()\n",
    "        self.fpn = FPN()\n",
    "        self.rpn = RPN(in_channels=256, num_anchors=3)\n",
    "        \n",
    "        self.box_roi_pool = torchvision.ops.MultiScaleRoIAlign(featmap_names=['0', '1', '2', '3'], output_size=7, sampling_ratio=2)\n",
    "        self.mask_roi_pool = torchvision.ops.MultiScaleRoIAlign(featmap_names=['0', '1', '2', '3'], output_size=14, sampling_ratio=2)\n",
    "\n",
    "        resolution = self.box_roi_pool.output_size[0]\n",
    "        representation_size = 256 * resolution * resolution\n",
    "        \n",
    "        # Các lớp head\n",
    "        self.box_head = nn.Sequential(nn.Linear(representation_size, 1024), nn.ReLU())\n",
    "        self.cls_score = nn.Linear(1024, num_classes)\n",
    "        self.box_predictor = nn.Linear(1024, num_classes * 4)\n",
    "        \n",
    "        self.mask_head = MaskHead(in_channels=256, num_classes=num_classes)\n",
    "        \n",
    "        # --- 2. Khởi tạo trọng số cho các lớp head mới ---\n",
    "        # Đây là bước quan trọng để ổn định quá trình training.\n",
    "        print(\"Initializing weights for new layers...\")\n",
    "        for layer in self.box_head.modules():\n",
    "            if isinstance(layer, nn.Linear):\n",
    "                nn.init.normal_(layer.weight, std=0.01)\n",
    "                nn.init.constant_(layer.bias, 0)\n",
    "        \n",
    "        nn.init.normal_(self.cls_score.weight, std=0.01)\n",
    "        nn.init.constant_(self.cls_score.bias, 0)\n",
    "        \n",
    "        # Lớp regression thường cần std nhỏ hơn\n",
    "        nn.init.normal_(self.box_predictor.weight, std=0.001)\n",
    "        nn.init.constant_(self.box_predictor.bias, 0)\n",
    "\n",
    "        # --- 3. Các siêu tham số cho inference ---\n",
    "        self.num_classes = num_classes\n",
    "        self.score_thresh = 0.05\n",
    "        self.nms_thresh = 0.5\n",
    "        self.detections_per_img = 100\n",
    "\n",
    "    def forward(self, images, targets=None):\n",
    "        if self.training and targets is None:\n",
    "            raise ValueError(\"In training mode, targets should be passed\")\n",
    "\n",
    "        original_image_sizes = [img.shape[-2:] for img in images]\n",
    "        image_batch = torch.stack(images, dim=0)\n",
    "        \n",
    "        # --- Backbone + FPN ---\n",
    "        c2, c3, c4, c5 = self.backbone(image_batch)\n",
    "        fpn_features_list = self.fpn(c2, c3, c4, c5)\n",
    "        features = {f'{i}': fpn_features_list[i] for i in range(4)}\n",
    "\n",
    "        # --- RPN ---\n",
    "        anchors = generate_pyramid_anchors([feat.shape[-2:] for feat in fpn_features_list], [4, 8, 16, 32], [32, 64, 128, 256], device=image_batch.device)\n",
    "        \n",
    "        rpn_cls_logits_list, rpn_box_deltas_list = [], []\n",
    "        for feat in fpn_features_list:\n",
    "            cls_logits, box_deltas = self.rpn(feat)\n",
    "            B, _, H, W = cls_logits.shape\n",
    "            cls_logits = cls_logits.permute(0, 2, 3, 1).reshape(B, -1)\n",
    "            box_deltas = box_deltas.permute(0, 2, 3, 1).reshape(B, -1, 4)\n",
    "            rpn_cls_logits_list.append(cls_logits)\n",
    "            rpn_box_deltas_list.append(box_deltas)\n",
    "\n",
    "        rpn_cls_logits = torch.cat(rpn_cls_logits_list, dim=1)\n",
    "        rpn_box_deltas = torch.cat(rpn_box_deltas_list, dim=1)\n",
    "\n",
    "        proposals = []\n",
    "        for i in range(image_batch.shape[0]):\n",
    "            decoded_boxes = decode_boxes(anchors, rpn_box_deltas[i])\n",
    "            single_image_proposals = generate_proposals(torch.sigmoid(rpn_cls_logits[i]), decoded_boxes, original_image_sizes[i])\n",
    "            proposals.append(single_image_proposals)\n",
    "\n",
    "        # --- RoI Heads (Training or Inference) ---\n",
    "        if self.training:\n",
    "            # --- Training Logic ---\n",
    "            assigned_gt_idxs, labels = self.assign_targets_to_proposals(proposals, targets)\n",
    "            sampled_idxs_list = [sample_rois(lbl) for lbl in labels]\n",
    "            \n",
    "            proposals_sampled = [p[s] for p, s in zip(proposals, sampled_idxs_list)]\n",
    "            labels_sampled = [l[s] for l, s in zip(labels, sampled_idxs_list)]\n",
    "            assigned_gt_idxs_sampled = [g[s] for g, s in zip(assigned_gt_idxs, sampled_idxs_list)]\n",
    "\n",
    "            box_features = self.box_roi_pool(features, proposals_sampled, original_image_sizes)\n",
    "            box_head_output = self.box_head(box_features.flatten(start_dim=1))\n",
    "            class_logits = self.cls_score(box_head_output)\n",
    "            box_regression = self.box_predictor(box_head_output)\n",
    "            \n",
    "            return compute_losses(class_logits, box_regression, proposals_sampled, labels_sampled, assigned_gt_idxs_sampled, targets)\n",
    "\n",
    "        else: # Inference\n",
    "            box_features = self.box_roi_pool(features, proposals, original_image_sizes)\n",
    "            box_head_output = self.box_head(box_features.flatten(start_dim=1))\n",
    "            class_logits = self.cls_score(box_head_output)\n",
    "            box_regression = self.box_predictor(box_head_output)\n",
    "            \n",
    "            detections = self.postprocess_detections(class_logits, box_regression, proposals, original_image_sizes)\n",
    "            return detections\n",
    "\n",
    "    def assign_targets_to_proposals(self, proposals, targets):\n",
    "        all_assigned_gt_idxs, all_labels = [], []\n",
    "        for i in range(len(proposals)):\n",
    "            gt_boxes = targets[i]['boxes']\n",
    "            gt_labels = targets[i]['labels']\n",
    "            proposals_per_image = proposals[i]\n",
    "            assigned_gt_idxs, labels = match_proposals_with_ground_truth(proposals_per_image, gt_boxes, gt_labels)\n",
    "            all_assigned_gt_idxs.append(assigned_gt_idxs)\n",
    "            all_labels.append(labels)\n",
    "        return all_assigned_gt_idxs, all_labels\n",
    "\n",
    "    def postprocess_detections(self, class_logits, box_regression, proposals, image_shapes):\n",
    "        device = class_logits.device\n",
    "        scores = F.softmax(class_logits, -1)\n",
    "        \n",
    "        proposals_cat = torch.cat(proposals, dim=0)\n",
    "        box_regression = box_regression.view(-1, self.num_classes, 4)\n",
    "        \n",
    "        num_proposals = proposals_cat.shape[0]\n",
    "        proposals_expanded = proposals_cat.unsqueeze(1).expand(num_proposals, self.num_classes, 4)\n",
    "        \n",
    "        boxes = decode_boxes(proposals_expanded.reshape(-1, 4), box_regression.reshape(-1, 4)).reshape(num_proposals, self.num_classes, 4)\n",
    "\n",
    "        proposals_per_image = [len(p) for p in proposals]\n",
    "        scores_list = list(scores.split(proposals_per_image, 0))\n",
    "        boxes_list = list(boxes.split(proposals_per_image, 0))\n",
    "        \n",
    "        all_detections = []\n",
    "        for i in range(len(image_shapes)):\n",
    "            image_shape = image_shapes[i]\n",
    "            scores_per_image = scores_list[i]\n",
    "            boxes_per_image = boxes_list[i]\n",
    "\n",
    "            boxes_per_image = boxes_per_image[:, 1:]\n",
    "            scores_per_image = scores_per_image[:, 1:]\n",
    "            \n",
    "            boxes_flat = boxes_per_image.reshape(-1, 4)\n",
    "            scores_flat = scores_per_image.flatten()\n",
    "            labels_flat = torch.arange(1, self.num_classes, device=device).expand(boxes_per_image.shape[0], self.num_classes - 1).flatten()\n",
    "            \n",
    "            keep = scores_flat > self.score_thresh\n",
    "            boxes_flat, scores_flat, labels_flat = boxes_flat[keep], scores_flat[keep], labels_flat[keep]\n",
    "            \n",
    "            boxes_flat[:, 0::2].clamp_(min=0, max=image_shape[1])\n",
    "            boxes_flat[:, 1::2].clamp_(min=0, max=image_shape[0])\n",
    "            \n",
    "            keep_nms = batched_nms(boxes_flat, scores_flat, labels_flat, self.nms_thresh)\n",
    "            keep_nms = keep_nms[:self.detections_per_img]\n",
    "            \n",
    "            all_detections.append({\n",
    "                \"boxes\": boxes_flat[keep_nms],\n",
    "                \"scores\": scores_flat[keep_nms],\n",
    "                \"labels\": labels_flat[keep_nms],\n",
    "            })\n",
    "        return all_detections"
   ]
  },
  {
   "cell_type": "code",
   "execution_count": 16,
   "id": "4f508506",
   "metadata": {
    "execution": {
     "iopub.execute_input": "2025-06-25T05:46:18.399433Z",
     "iopub.status.busy": "2025-06-25T05:46:18.398990Z",
     "iopub.status.idle": "2025-06-25T05:46:18.404666Z",
     "shell.execute_reply": "2025-06-25T05:46:18.404100Z"
    },
    "papermill": {
     "duration": 0.013579,
     "end_time": "2025-06-25T05:46:18.405757",
     "exception": false,
     "start_time": "2025-06-25T05:46:18.392178",
     "status": "completed"
    },
    "tags": []
   },
   "outputs": [],
   "source": [
    "def generate_pyramid_anchors(feature_shapes, strides, sizes_per_level, ratios=[0.5, 1.0, 2.0], device=\"cpu\"):\n",
    "    all_anchors = []\n",
    "    for shape, stride, size in zip(feature_shapes, strides, sizes_per_level):\n",
    "        H, W = shape\n",
    "        shift_x = (torch.arange(0, W, device=device) + 0.5) * stride\n",
    "        shift_y = (torch.arange(0, H, device=device) + 0.5) * stride\n",
    "        shift_y, shift_x = torch.meshgrid(shift_y, shift_x, indexing='ij')\n",
    "        centers = torch.stack((shift_x.ravel(), shift_y.ravel()), dim=1)\n",
    "\n",
    "        base_anchors = []\n",
    "        for r in ratios:\n",
    "            h = size / math.sqrt(r)\n",
    "            w = size * math.sqrt(r)\n",
    "            base_anchors.append([-w / 2, -h / 2, w / 2, h / 2])\n",
    "        base_anchors = torch.tensor(base_anchors, device=device)\n",
    "\n",
    "        anchors = (base_anchors.view(1, -1, 4) + centers.view(-1, 1, 2).repeat(1, 1, 2)).view(-1, 4)\n",
    "        all_anchors.append(anchors)\n",
    "    return torch.cat(all_anchors, dim=0)\n"
   ]
  },
  {
   "cell_type": "code",
   "execution_count": 17,
   "id": "5c5cddd9",
   "metadata": {
    "execution": {
     "iopub.execute_input": "2025-06-25T05:46:18.418538Z",
     "iopub.status.busy": "2025-06-25T05:46:18.418327Z",
     "iopub.status.idle": "2025-06-25T05:46:18.424742Z",
     "shell.execute_reply": "2025-06-25T05:46:18.424218Z"
    },
    "papermill": {
     "duration": 0.014089,
     "end_time": "2025-06-25T05:46:18.425835",
     "exception": false,
     "start_time": "2025-06-25T05:46:18.411746",
     "status": "completed"
    },
    "tags": []
   },
   "outputs": [],
   "source": [
    "def compute_losses(class_logits, box_regression, proposals_sampled, labels_sampled, assigned_gt_idxs_sampled, targets):\n",
    "    \"\"\"\n",
    "    Tính toán loss cho classification và box regression.\n",
    "    \"\"\"\n",
    "    # --- 1. Classification Loss ---\n",
    "    labels_cat = torch.cat(labels_sampled, dim=0)\n",
    "    loss_classifier = F.cross_entropy(class_logits, labels_cat, ignore_index=-1)\n",
    "\n",
    "    # --- 2. Bounding Box Regression Loss ---\n",
    "    fg_mask = labels_cat > 0\n",
    "    \n",
    "    if not fg_mask.any():\n",
    "        loss_box_reg = torch.tensor(0.0, device=loss_classifier.device, dtype=loss_classifier.dtype)\n",
    "        return {\"loss_classifier\": loss_classifier, \"loss_box_reg\": loss_box_reg}\n",
    "\n",
    "    gt_boxes_for_reg = []\n",
    "    for i in range(len(targets)):\n",
    "        gt_boxes_for_reg.append(targets[i]['boxes'][assigned_gt_idxs_sampled[i]])\n",
    "    \n",
    "    gt_boxes_cat = torch.cat(gt_boxes_for_reg, dim=0)[fg_mask]\n",
    "    proposals_cat = torch.cat(proposals_sampled, dim=0)[fg_mask]\n",
    "    gt_class_labels = labels_cat[fg_mask]\n",
    "    \n",
    "    gt_box_deltas = encode_boxes(gt_boxes_cat, proposals_cat)\n",
    "    \n",
    "    log_ratio_clip = math.log(1000.0 / 16)\n",
    "    dx, dy, dw, dh = gt_box_deltas.T\n",
    "    dw_clamped = torch.clamp(dw, min=-log_ratio_clip, max=log_ratio_clip)\n",
    "    dh_clamped = torch.clamp(dh, min=-log_ratio_clip, max=log_ratio_clip)\n",
    "    gt_box_deltas_clamped = torch.stack([dx, dy, dw_clamped, dh_clamped], dim=1)\n",
    "\n",
    "    pred_box_deltas = box_regression[fg_mask]\n",
    "    pred_box_deltas_slice = pred_box_deltas.view(-1, NUM_CLASSES, 4)[torch.arange(len(gt_class_labels)), gt_class_labels]\n",
    "    \n",
    "    num_fg = max(1, fg_mask.sum())\n",
    "    loss_box_reg = F.smooth_l1_loss(pred_box_deltas_slice, gt_box_deltas_clamped, reduction='sum') / num_fg\n",
    "\n",
    "    return {\"loss_classifier\": loss_classifier, \"loss_box_reg\": loss_box_reg}"
   ]
  },
  {
   "cell_type": "code",
   "execution_count": 18,
   "id": "068af5f0",
   "metadata": {
    "execution": {
     "iopub.execute_input": "2025-06-25T05:46:18.438282Z",
     "iopub.status.busy": "2025-06-25T05:46:18.438094Z",
     "iopub.status.idle": "2025-06-25T05:46:18.442870Z",
     "shell.execute_reply": "2025-06-25T05:46:18.442403Z"
    },
    "papermill": {
     "duration": 0.012071,
     "end_time": "2025-06-25T05:46:18.443842",
     "exception": false,
     "start_time": "2025-06-25T05:46:18.431771",
     "status": "completed"
    },
    "tags": []
   },
   "outputs": [],
   "source": [
    "def encode_boxes(gt_boxes, anchors):\n",
    "    anchor_w = anchors[:, 2] - anchors[:, 0]\n",
    "    anchor_h = anchors[:, 3] - anchors[:, 1]\n",
    "    anchor_ctr_x = anchors[:, 0] + 0.5 * anchor_w\n",
    "    anchor_ctr_y = anchors[:, 1] + 0.5 * anchor_h\n",
    "\n",
    "    gt_w = gt_boxes[:, 2] - gt_boxes[:, 0]\n",
    "    gt_h = gt_boxes[:, 3] - gt_boxes[:, 1]\n",
    "    gt_ctr_x = gt_boxes[:, 0] + 0.5 * gt_w\n",
    "    gt_ctr_y = gt_boxes[:, 1] + 0.5 * gt_h\n",
    "\n",
    "    eps = 1e-6\n",
    "    dx = (gt_ctr_x - anchor_ctr_x) / anchor_w.clamp(min=eps)\n",
    "    dy = (gt_ctr_y - anchor_ctr_y) / anchor_h.clamp(min=eps)\n",
    "    dw = torch.log(gt_w.clamp(min=eps) / anchor_w.clamp(min=eps))\n",
    "    dh = torch.log(gt_h.clamp(min=eps) / anchor_h.clamp(min=eps))\n",
    "    return torch.stack([dx, dy, dw, dh], dim=1)"
   ]
  },
  {
   "cell_type": "code",
   "execution_count": 19,
   "id": "c5fc3cab",
   "metadata": {
    "execution": {
     "iopub.execute_input": "2025-06-25T05:46:18.456240Z",
     "iopub.status.busy": "2025-06-25T05:46:18.456041Z",
     "iopub.status.idle": "2025-06-25T05:46:18.460926Z",
     "shell.execute_reply": "2025-06-25T05:46:18.460270Z"
    },
    "papermill": {
     "duration": 0.012224,
     "end_time": "2025-06-25T05:46:18.462016",
     "exception": false,
     "start_time": "2025-06-25T05:46:18.449792",
     "status": "completed"
    },
    "tags": []
   },
   "outputs": [],
   "source": [
    "def decode_boxes(anchors, deltas):\n",
    "    widths = anchors[:, 2] - anchors[:, 0]\n",
    "    heights = anchors[:, 3] - anchors[:, 1]\n",
    "    ctr_x = anchors[:, 0] + 0.5 * widths\n",
    "    ctr_y = anchors[:, 1] + 0.5 * heights\n",
    "\n",
    "    dx, dy, dw, dh = deltas[:, 0], deltas[:, 1], deltas[:, 2], deltas[:, 3]\n",
    "    pred_ctr_x = dx * widths + ctr_x\n",
    "    pred_ctr_y = dy * heights + ctr_y\n",
    "    pred_w = torch.exp(dw) * widths\n",
    "    pred_h = torch.exp(dh) * heights\n",
    "\n",
    "    x1 = pred_ctr_x - 0.5 * pred_w\n",
    "    y1 = pred_ctr_y - 0.5 * pred_h\n",
    "    x2 = pred_ctr_x + 0.5 * pred_w\n",
    "    y2 = pred_ctr_y + 0.5 * pred_h\n",
    "    return torch.stack([x1, y1, x2, y2], dim=1)"
   ]
  },
  {
   "cell_type": "code",
   "execution_count": 20,
   "id": "a1726307",
   "metadata": {
    "execution": {
     "iopub.execute_input": "2025-06-25T05:46:18.474577Z",
     "iopub.status.busy": "2025-06-25T05:46:18.474030Z",
     "iopub.status.idle": "2025-06-25T05:46:18.479583Z",
     "shell.execute_reply": "2025-06-25T05:46:18.478941Z"
    },
    "papermill": {
     "duration": 0.012948,
     "end_time": "2025-06-25T05:46:18.480644",
     "exception": false,
     "start_time": "2025-06-25T05:46:18.467696",
     "status": "completed"
    },
    "tags": []
   },
   "outputs": [],
   "source": [
    "def generate_proposals(rpn_scores, decoded_boxes, image_shape,\n",
    "                       pre_nms_topk=2000, post_nms_topk=1000, iou_threshold=0.7, min_size=1):\n",
    "    h, w = image_shape\n",
    "    boxes = torch.stack([\n",
    "        decoded_boxes[:, 0].clamp(min=0, max=w),\n",
    "        decoded_boxes[:, 1].clamp(min=0, max=h),\n",
    "        decoded_boxes[:, 2].clamp(min=0, max=w),\n",
    "        decoded_boxes[:, 3].clamp(min=0, max=h)\n",
    "    ], dim=1)\n",
    "\n",
    "    ws, hs = boxes[:, 2] - boxes[:, 0], boxes[:, 3] - boxes[:, 1]\n",
    "    keep_mask = (ws >= min_size) & (hs >= min_size)\n",
    "    \n",
    "    boxes = boxes[keep_mask]\n",
    "    scores = rpn_scores[keep_mask]\n",
    "    \n",
    "    if boxes.numel() == 0:\n",
    "        return torch.empty((0, 4), device=boxes.device, dtype=boxes.dtype)\n",
    "\n",
    "    num_to_keep = min(pre_nms_topk, scores.size(0))\n",
    "    topk_scores, topk_indices = scores.topk(num_to_keep)\n",
    "    \n",
    "    boxes = boxes[topk_indices]\n",
    "\n",
    "    keep_indices = nms(boxes, topk_scores, iou_threshold)\n",
    "\n",
    "    final_indices = keep_indices[:post_nms_topk]\n",
    "    \n",
    "    return boxes[final_indices]"
   ]
  },
  {
   "cell_type": "code",
   "execution_count": 21,
   "id": "dd75c320",
   "metadata": {
    "execution": {
     "iopub.execute_input": "2025-06-25T05:46:18.492580Z",
     "iopub.status.busy": "2025-06-25T05:46:18.492387Z",
     "iopub.status.idle": "2025-06-25T05:46:18.496424Z",
     "shell.execute_reply": "2025-06-25T05:46:18.495950Z"
    },
    "papermill": {
     "duration": 0.011123,
     "end_time": "2025-06-25T05:46:18.497417",
     "exception": false,
     "start_time": "2025-06-25T05:46:18.486294",
     "status": "completed"
    },
    "tags": []
   },
   "outputs": [],
   "source": [
    "def prepare_roi_format(proposals):\n",
    "    batch_indices = torch.zeros((proposals.size(0), 1), device=proposals.device)\n",
    "    return torch.cat((batch_indices, proposals), dim=1)\n",
    "\n",
    "def assign_rois_to_levels(rois, k_min=2, k_max=5, canonical_scale=224):\n",
    "    widths = rois[:, 2] - rois[:, 0]\n",
    "    heights = rois[:, 3] - rois[:, 1]\n",
    "    roi_scales = torch.sqrt(widths * heights)\n",
    "    levels = torch.floor(4 + torch.log2(roi_scales / canonical_scale + 1e-6))\n",
    "    return levels.clamp(min=k_min, max=k_max).long()"
   ]
  },
  {
   "cell_type": "code",
   "execution_count": 22,
   "id": "025d9193",
   "metadata": {
    "execution": {
     "iopub.execute_input": "2025-06-25T05:46:18.554993Z",
     "iopub.status.busy": "2025-06-25T05:46:18.554324Z",
     "iopub.status.idle": "2025-06-25T05:46:18.559167Z",
     "shell.execute_reply": "2025-06-25T05:46:18.558594Z"
    },
    "papermill": {
     "duration": 0.012674,
     "end_time": "2025-06-25T05:46:18.560228",
     "exception": false,
     "start_time": "2025-06-25T05:46:18.547554",
     "status": "completed"
    },
    "tags": []
   },
   "outputs": [],
   "source": [
    "def compute_iou(boxes1, boxes2):\n",
    "    lt = torch.max(boxes1[:, None, :2], boxes2[:, :2])\n",
    "    rb = torch.min(boxes1[:, None, 2:], boxes2[:, 2:])\n",
    "    wh = (rb - lt).clamp(min=0)\n",
    "    inter = wh[:, :, 0] * wh[:, :, 1]\n",
    "    area1 = (boxes1[:, 2] - boxes1[:, 0]) * (boxes1[:, 3] - boxes1[:, 1])\n",
    "    area2 = (boxes2[:, 2] - boxes2[:, 0]) * (boxes2[:, 3] - boxes2[:, 1])\n",
    "    union = area1[:, None] + area2 - inter\n",
    "    return inter / union.clamp(min=1e-6)"
   ]
  },
  {
   "cell_type": "code",
   "execution_count": 23,
   "id": "5f8c6863",
   "metadata": {
    "execution": {
     "iopub.execute_input": "2025-06-25T05:46:18.573081Z",
     "iopub.status.busy": "2025-06-25T05:46:18.572689Z",
     "iopub.status.idle": "2025-06-25T05:46:18.578185Z",
     "shell.execute_reply": "2025-06-25T05:46:18.577676Z"
    },
    "papermill": {
     "duration": 0.013031,
     "end_time": "2025-06-25T05:46:18.579207",
     "exception": false,
     "start_time": "2025-06-25T05:46:18.566176",
     "status": "completed"
    },
    "tags": []
   },
   "outputs": [],
   "source": [
    "def match_proposals_with_ground_truth(proposals, gt_boxes, gt_labels,\n",
    "                                      fg_iou_thresh=0.5, bg_iou_thresh=0.4):\n",
    "    \"\"\"\n",
    "    Gán GT cho proposals. Trả về chỉ số GT được gán và nhãn cho từng proposal.\n",
    "    - IoU >= fg_iou_thresh: foreground (nhãn > 0)\n",
    "    - IoU < bg_iou_thresh: background (nhãn = 0)\n",
    "    - Còn lại: ignore (nhãn = -1)\n",
    "    \"\"\"\n",
    "    if gt_boxes.numel() == 0:\n",
    "        # Nếu không có ground truth, tất cả proposals đều là background\n",
    "        labels = torch.zeros(proposals.shape[0], dtype=torch.long, device=proposals.device)\n",
    "        # Không có GT nào được gán\n",
    "        assigned_gt_idxs = torch.full_like(labels, -1)\n",
    "        return assigned_gt_idxs, labels\n",
    "\n",
    "    # Tính ma trận IoU giữa tất cả proposals và ground truth\n",
    "    # Shape: [num_proposals, num_gts]\n",
    "    iou = box_iou(proposals, gt_boxes)\n",
    "    \n",
    "    # Với mỗi proposal, tìm ra GT có IoU cao nhất\n",
    "    # best_gt_iou shape: [num_proposals]\n",
    "    # best_gt_idx shape: [num_proposals] (chứa chỉ số của GT tốt nhất)\n",
    "    best_gt_iou, best_gt_idx = iou.max(dim=1)\n",
    "\n",
    "    # 1. Khởi tạo nhãn ban đầu: tất cả đều là \"ignore\" (-1)\n",
    "    labels = torch.full((proposals.shape[0],), -1, dtype=torch.long, device=proposals.device)\n",
    "\n",
    "    # 2. Gán nhãn background (0) cho những proposal có IoU cao nhất < ngưỡng background\n",
    "    labels[best_gt_iou < bg_iou_thresh] = 0\n",
    "\n",
    "    # 3. Gán nhãn foreground (>0) cho những proposal có IoU cao nhất >= ngưỡng foreground\n",
    "    fg_mask = best_gt_iou >= fg_iou_thresh\n",
    "    if fg_mask.any():\n",
    "        labels[fg_mask] = gt_labels[best_gt_idx[fg_mask]]\n",
    "\n",
    "    # 4. Để đảm bảo recall, với mỗi GT, ta tìm proposal có IoU cao nhất với nó\n",
    "    # và ép proposal đó phải là foreground.\n",
    "    best_proposal_iou, best_proposal_idx = iou.max(dim=0)\n",
    "    for gt_idx, proposal_idx in enumerate(best_proposal_idx):\n",
    "        labels[proposal_idx] = gt_labels[gt_idx]\n",
    "\n",
    "    # best_gt_idx chỉ dùng để tra cứu GT box khi tính loss\n",
    "    return best_gt_idx, labels"
   ]
  },
  {
   "cell_type": "code",
   "execution_count": 24,
   "id": "cc9bbc98",
   "metadata": {
    "execution": {
     "iopub.execute_input": "2025-06-25T05:46:18.591946Z",
     "iopub.status.busy": "2025-06-25T05:46:18.591584Z",
     "iopub.status.idle": "2025-06-25T05:46:18.596073Z",
     "shell.execute_reply": "2025-06-25T05:46:18.595483Z"
    },
    "papermill": {
     "duration": 0.011841,
     "end_time": "2025-06-25T05:46:18.597039",
     "exception": false,
     "start_time": "2025-06-25T05:46:18.585198",
     "status": "completed"
    },
    "tags": []
   },
   "outputs": [],
   "source": [
    "def sample_rois(labels, total_samples=128, fg_ratio=0.25):\n",
    "    positive = (labels > 0).nonzero(as_tuple=False).squeeze(1)\n",
    "    negative = (labels == 0).nonzero(as_tuple=False).squeeze(1)\n",
    "    \n",
    "    num_fg = min(int(total_samples * fg_ratio), positive.numel())\n",
    "    num_bg = min(total_samples - num_fg, negative.numel())\n",
    "    \n",
    "    fg_perm = torch.randperm(positive.numel(), device=positive.device)[:num_fg]\n",
    "    bg_perm = torch.randperm(negative.numel(), device=negative.device)[:num_bg]\n",
    "    \n",
    "    return torch.cat([positive[fg_perm], negative[bg_perm]])"
   ]
  },
  {
   "cell_type": "code",
   "execution_count": 25,
   "id": "1919728c",
   "metadata": {
    "execution": {
     "iopub.execute_input": "2025-06-25T05:46:18.609643Z",
     "iopub.status.busy": "2025-06-25T05:46:18.609270Z",
     "iopub.status.idle": "2025-06-25T05:46:18.615600Z",
     "shell.execute_reply": "2025-06-25T05:46:18.615071Z"
    },
    "papermill": {
     "duration": 0.013851,
     "end_time": "2025-06-25T05:46:18.616557",
     "exception": false,
     "start_time": "2025-06-25T05:46:18.602706",
     "status": "completed"
    },
    "tags": []
   },
   "outputs": [],
   "source": [
    "def compute_losses(class_logits, box_regression, proposals_sampled, labels_sampled, assigned_gt_idxs_sampled, targets):\n",
    "    \"\"\"\n",
    "    Tính toán loss cho classification và box regression.\n",
    "    \"\"\"\n",
    "    # --- 1. Classification Loss ---\n",
    "    labels_cat = torch.cat(labels_sampled, dim=0)\n",
    "    loss_classifier = F.cross_entropy(class_logits, labels_cat, ignore_index=-1)\n",
    "\n",
    "    # --- 2. Bounding Box Regression Loss ---\n",
    "    fg_mask = labels_cat > 0\n",
    "    \n",
    "    if not fg_mask.any():\n",
    "        loss_box_reg = torch.tensor(0.0, device=loss_classifier.device, dtype=loss_classifier.dtype)\n",
    "        return {\"loss_classifier\": loss_classifier, \"loss_box_reg\": loss_box_reg}\n",
    "\n",
    "    gt_boxes_for_reg = []\n",
    "    for i in range(len(targets)):\n",
    "        gt_boxes_for_reg.append(targets[i]['boxes'][assigned_gt_idxs_sampled[i]])\n",
    "    \n",
    "    gt_boxes_cat = torch.cat(gt_boxes_for_reg, dim=0)[fg_mask]\n",
    "    proposals_cat = torch.cat(proposals_sampled, dim=0)[fg_mask]\n",
    "    gt_class_labels = labels_cat[fg_mask]\n",
    "    \n",
    "    gt_box_deltas = encode_boxes(gt_boxes_cat, proposals_cat)\n",
    "    \n",
    "    log_ratio_clip = math.log(1000.0 / 16)\n",
    "    dx, dy, dw, dh = gt_box_deltas.T\n",
    "    dw_clamped = torch.clamp(dw, min=-log_ratio_clip, max=log_ratio_clip)\n",
    "    dh_clamped = torch.clamp(dh, min=-log_ratio_clip, max=log_ratio_clip)\n",
    "    gt_box_deltas_clamped = torch.stack([dx, dy, dw_clamped, dh_clamped], dim=1)\n",
    "\n",
    "    pred_box_deltas = box_regression[fg_mask]\n",
    "    pred_box_deltas_slice = pred_box_deltas.view(-1, NUM_CLASSES, 4)[torch.arange(len(gt_class_labels)), gt_class_labels]\n",
    "    \n",
    "    num_fg = max(1, fg_mask.sum())\n",
    "    loss_box_reg = F.smooth_l1_loss(pred_box_deltas_slice, gt_box_deltas_clamped, reduction='sum') / num_fg\n",
    "\n",
    "    return {\"loss_classifier\": loss_classifier, \"loss_box_reg\": loss_box_reg}"
   ]
  },
  {
   "cell_type": "code",
   "execution_count": 26,
   "id": "c6495d64",
   "metadata": {
    "execution": {
     "iopub.execute_input": "2025-06-25T05:46:18.629029Z",
     "iopub.status.busy": "2025-06-25T05:46:18.628611Z",
     "iopub.status.idle": "2025-06-25T05:46:18.632299Z",
     "shell.execute_reply": "2025-06-25T05:46:18.631769Z"
    },
    "papermill": {
     "duration": 0.011045,
     "end_time": "2025-06-25T05:46:18.633360",
     "exception": false,
     "start_time": "2025-06-25T05:46:18.622315",
     "status": "completed"
    },
    "tags": []
   },
   "outputs": [],
   "source": [
    "def print_loss_details(loss_dict, batch_idx):\n",
    "    \"\"\"Hàm helper để in chi tiết các thành phần loss.\"\"\"\n",
    "    loss_cls = loss_dict.get('loss_classifier', torch.tensor(0.0)).item()\n",
    "    loss_reg = loss_dict.get('loss_box_reg', torch.tensor(0.0)).item()\n",
    "    print(f\"  [Loss Debug] Batch {batch_idx}: Cls={loss_cls:.4f}, Reg={loss_reg:.4f}\")"
   ]
  },
  {
   "cell_type": "code",
   "execution_count": 27,
   "id": "c5cf5a7f",
   "metadata": {
    "execution": {
     "iopub.execute_input": "2025-06-25T05:46:18.645832Z",
     "iopub.status.busy": "2025-06-25T05:46:18.645643Z",
     "iopub.status.idle": "2025-06-25T05:46:18.652263Z",
     "shell.execute_reply": "2025-06-25T05:46:18.651739Z"
    },
    "papermill": {
     "duration": 0.013973,
     "end_time": "2025-06-25T05:46:18.653201",
     "exception": false,
     "start_time": "2025-06-25T05:46:18.639228",
     "status": "completed"
    },
    "tags": []
   },
   "outputs": [],
   "source": [
    "def train_epoch(model, dataloader, optimizer, device, epoch_num, accumulation_steps=4):\n",
    "    model.train()\n",
    "    scaler = GradScaler()\n",
    "    optimizer.zero_grad()\n",
    "    \n",
    "    total_epoch_loss = 0.0\n",
    "    num_batches_processed = 0\n",
    "    \n",
    "    pbar = tqdm(dataloader, desc=f\"Training Epoch {epoch_num+1}\")\n",
    "    for i, batch in enumerate(pbar):\n",
    "        if batch[0] is None: continue\n",
    "        images, targets = batch\n",
    "        \n",
    "        images = [img.to(device) for img in images]\n",
    "        targets_device = [{k: v.to(device) for k, v in t.items()} for t in targets]\n",
    "\n",
    "        try:\n",
    "            with autocast():\n",
    "                loss_dict = model(images, targets_device)\n",
    "                \n",
    "                if not loss_dict: continue\n",
    "\n",
    "                # In chi tiết loss cho 5 batch đầu của epoch đầu tiên\n",
    "                if epoch_num == 0 and i < 5:\n",
    "                    print_loss_details(loss_dict, i)\n",
    "\n",
    "                losses = sum(loss for loss in loss_dict.values())\n",
    "\n",
    "            if torch.isnan(losses) or torch.isinf(losses):\n",
    "                print(f\"NaN/Inf loss detected. Skipping batch {i}.\")\n",
    "                continue\n",
    "            \n",
    "            total_epoch_loss += losses.item()\n",
    "            num_batches_processed += 1\n",
    "            pbar.set_postfix(loss=f\"{(total_epoch_loss / max(1, num_batches_processed)):.4f}\")\n",
    "\n",
    "            scaled_loss = losses / accumulation_steps\n",
    "            scaler.scale(scaled_loss).backward()\n",
    "\n",
    "            if (i + 1) % accumulation_steps == 0 or (i + 1) == len(dataloader):\n",
    "                scaler.unscale_(optimizer)\n",
    "                torch.nn.utils.clip_grad_norm_(model.parameters(), max_norm=1.0)\n",
    "                scaler.step(optimizer)\n",
    "                scaler.update()\n",
    "                optimizer.zero_grad()\n",
    "\n",
    "        except Exception as e:\n",
    "            print(f\"\\nError in training step at batch {i}: {e}\")\n",
    "            import traceback\n",
    "            traceback.print_exc()\n",
    "            continue"
   ]
  },
  {
   "cell_type": "code",
   "execution_count": 28,
   "id": "23d493b8",
   "metadata": {
    "execution": {
     "iopub.execute_input": "2025-06-25T05:46:18.665504Z",
     "iopub.status.busy": "2025-06-25T05:46:18.665334Z",
     "iopub.status.idle": "2025-06-25T05:46:18.674186Z",
     "shell.execute_reply": "2025-06-25T05:46:18.673598Z"
    },
    "papermill": {
     "duration": 0.01637,
     "end_time": "2025-06-25T05:46:18.675254",
     "exception": false,
     "start_time": "2025-06-25T05:46:18.658884",
     "status": "completed"
    },
    "tags": []
   },
   "outputs": [],
   "source": [
    "def convert_to_coco_api(ds):\n",
    "    ann_file = os.path.join(ds.root_dir, 'cityscapes_val_coco_format.json')\n",
    "    if not os.path.exists(ann_file):\n",
    "        print(\"COCO format file not found. Generating...\")\n",
    "        create_cityscapes_coco_json(ds.root_dir, 'val', 'cityscapes_val_coco_format.json')\n",
    "    \n",
    "    coco_ds = COCO(ann_file)\n",
    "    return coco_ds\n",
    "\n",
    "def evaluate_map(model, dataloader, device):\n",
    "    # --- Phần setup không đổi ---\n",
    "    coco_gt = convert_to_coco_api(dataloader.dataset)\n",
    "    coco_results = []\n",
    "    \n",
    "    # --- [CHỈNH SỬA] Thêm biến để tính loss ---\n",
    "    total_val_loss = 0.0\n",
    "    num_val_batches = 0\n",
    "\n",
    "    # Tắt gradient cho toàn bộ quá trình evaluation\n",
    "    with torch.no_grad():\n",
    "        for images, targets in tqdm(dataloader, desc=\"Evaluating for mAP\"):\n",
    "            if images is None: continue\n",
    "            \n",
    "            image_ids = [t['image_id'].item() for t in targets]\n",
    "            images = [img.to(device) for img in images]\n",
    "            targets_device = [{k: v.to(device) for k, v in t.items()} for t in targets]\n",
    "            \n",
    "            # --- 1. TÍNH LOSS VALIDATION ---\n",
    "            # Tạm thời chuyển model sang .train() để nó trả về loss_dict\n",
    "            model.train() \n",
    "            loss_dict = model(images, targets_device)\n",
    "            losses = sum(loss for loss in loss_dict.values())\n",
    "            \n",
    "            # Cập nhật loss\n",
    "            if not torch.isnan(losses):\n",
    "                total_val_loss += losses.item()\n",
    "                num_val_batches += 1\n",
    "            \n",
    "            # --- 2. CHẠY INFERENCE ĐỂ TÍNH mAP ---\n",
    "            # Chuyển model về .eval() để nó trả về predictions\n",
    "            model.eval()\n",
    "            outputs = model(images) \n",
    "\n",
    "            # --- Phần xử lý kết quả để tính mAP (Không đổi) ---\n",
    "            for i, output in enumerate(outputs):\n",
    "                boxes, labels, scores = output[\"boxes\"].cpu(), output[\"labels\"].cpu(), output[\"scores\"].cpu()\n",
    "                if boxes.shape[0] == 0: continue\n",
    "                \n",
    "                for j in range(boxes.shape[0]):\n",
    "                    box = boxes[j]\n",
    "                    x1, y1, x2, y2 = box.tolist()\n",
    "                    result = {\n",
    "                        \"image_id\": image_ids[i],\n",
    "                        \"category_id\": labels[j].item(),\n",
    "                        \"bbox\": [x1, y1, x2 - x1, y2 - y1],\n",
    "                        \"score\": scores[j].item(),\n",
    "                    }\n",
    "                    coco_results.append(result)\n",
    "\n",
    "    # --- Tính toán kết quả cuối cùng ---\n",
    "    avg_val_loss = total_val_loss / max(1, num_val_batches)\n",
    "\n",
    "    if not coco_results:\n",
    "        print(\"No predictions were made during evaluation.\")\n",
    "        return avg_val_loss, {\"bbox_mAP\": 0.0}\n",
    "\n",
    "    # --- Phần tính toán mAP (Không đổi) ---\n",
    "    pred_file_path = \"/kaggle/working/predictions.json\"\n",
    "    with open(pred_file_path, \"w\") as f: json.dump(coco_results, f)\n",
    "    \n",
    "    coco_dt = coco_gt.loadRes(pred_file_path)\n",
    "    \n",
    "    print(\"\\n--- Bounding Box mAP ---\")\n",
    "    coco_eval_bbox = COCOeval(coco_gt, coco_dt, 'bbox')\n",
    "    coco_eval_bbox.evaluate()\n",
    "    coco_eval_bbox.accumulate()\n",
    "    coco_eval_bbox.summarize()\n",
    "    bbox_map = coco_eval_bbox.stats[0]\n",
    "\n",
    "    # Đảm bảo model quay về chế độ train sau khi evaluate xong\n",
    "    model.train()\n",
    "    \n",
    "    return avg_val_loss, {\"bbox_mAP\": bbox_map}"
   ]
  },
  {
   "cell_type": "code",
   "execution_count": 29,
   "id": "71d1ca1b",
   "metadata": {
    "execution": {
     "iopub.execute_input": "2025-06-25T05:46:18.687596Z",
     "iopub.status.busy": "2025-06-25T05:46:18.687423Z",
     "iopub.status.idle": "2025-06-25T05:46:18.693252Z",
     "shell.execute_reply": "2025-06-25T05:46:18.692715Z"
    },
    "papermill": {
     "duration": 0.013493,
     "end_time": "2025-06-25T05:46:18.694330",
     "exception": false,
     "start_time": "2025-06-25T05:46:18.680837",
     "status": "completed"
    },
    "tags": []
   },
   "outputs": [],
   "source": [
    "def calculate_detection_metrics(all_preds, all_gts, iou_threshold=0.5):\n",
    "    \"\"\"\n",
    "    Tính toán Precision, Recall, và F1-score cho object detection.\n",
    "\n",
    "    Args:\n",
    "        all_preds (list of dicts): Danh sách các dự đoán cho mỗi ảnh. \n",
    "                                   Mỗi dict chứa 'boxes', 'scores', 'labels'.\n",
    "        all_gts (list of dicts): Danh sách các ground truth cho mỗi ảnh.\n",
    "                                 Mỗi dict chứa 'boxes', 'labels'.\n",
    "        iou_threshold (float): Ngưỡng IoU để coi là một match.\n",
    "    \n",
    "    Returns:\n",
    "        dict: Một dictionary chứa các metrics.\n",
    "    \"\"\"\n",
    "    true_positives = 0\n",
    "    false_positives = 0\n",
    "    false_negatives = 0\n",
    "\n",
    "    for preds, gts in zip(all_preds, all_gts):\n",
    "        pred_boxes = preds['boxes']\n",
    "        gt_boxes = gts['boxes']\n",
    "        \n",
    "        if gt_boxes.numel() == 0:\n",
    "            false_positives += pred_boxes.shape[0]\n",
    "            continue\n",
    "            \n",
    "        if pred_boxes.numel() == 0:\n",
    "            false_negatives += gt_boxes.shape[0]\n",
    "            continue\n",
    "\n",
    "        iou_matrix = box_iou(pred_boxes, gt_boxes)\n",
    "\n",
    "        gt_matched = torch.zeros(gt_boxes.shape[0], dtype=torch.bool)\n",
    "\n",
    "        for pred_idx in range(pred_boxes.shape[0]):\n",
    "            iou_with_gts = iou_matrix[pred_idx]\n",
    "            best_gt_idx = torch.argmax(iou_with_gts)\n",
    "            \n",
    "            if iou_with_gts[best_gt_idx] >= iou_threshold:\n",
    "                if not gt_matched[best_gt_idx]:\n",
    "                    true_positives += 1\n",
    "                    gt_matched[best_gt_idx] = True\n",
    "                else:\n",
    "                    false_positives += 1\n",
    "            else:\n",
    "                false_positives += 1\n",
    "\n",
    "        false_negatives += (~gt_matched).sum().item()\n",
    "\n",
    "    precision = true_positives / (true_positives + false_positives + 1e-6)\n",
    "    recall = true_positives / (true_positives + false_negatives + 1e-6)\n",
    "    f1_score = 2 * (precision * recall) / (precision + recall + 1e-6)\n",
    "    \n",
    "    return {\n",
    "        'precision': precision,\n",
    "        'recall': recall,\n",
    "        'f1_score': f1_score\n",
    "    }"
   ]
  },
  {
   "cell_type": "code",
   "execution_count": 30,
   "id": "8e623ff7",
   "metadata": {
    "execution": {
     "iopub.execute_input": "2025-06-25T05:46:18.706712Z",
     "iopub.status.busy": "2025-06-25T05:46:18.706353Z",
     "iopub.status.idle": "2025-06-25T05:46:18.710720Z",
     "shell.execute_reply": "2025-06-25T05:46:18.710218Z"
    },
    "papermill": {
     "duration": 0.01156,
     "end_time": "2025-06-25T05:46:18.711647",
     "exception": false,
     "start_time": "2025-06-25T05:46:18.700087",
     "status": "completed"
    },
    "tags": []
   },
   "outputs": [],
   "source": [
    "def train(model, train_loader, val_loader, optimizer, scheduler, device, num_epochs=10):\n",
    "    best_map = 0.0\n",
    "    model.to(device)\n",
    "\n",
    "    for epoch in range(num_epochs):\n",
    "        # Truyền số epoch hiện tại vào train_epoch\n",
    "        train_epoch(model, train_loader, optimizer, device, epoch_num=epoch)\n",
    "        \n",
    "        val_loss, val_metrics = evaluate_map(model, val_loader, device)\n",
    "        bbox_map = val_metrics.get(\"bbox_mAP\", 0.0)\n",
    "        \n",
    "        print(f\"\\n[Validation] Epoch {epoch+1}: Loss: {val_loss:.4f} | Bbox mAP: {bbox_map:.4f}\")\n",
    "        \n",
    "        scheduler.step()\n",
    "        \n",
    "        if bbox_map > best_map:\n",
    "            best_map = bbox_map\n",
    "            torch.save(model.state_dict(), 'best_mask_rcnn_cityscapes_map.pth')\n",
    "            print(f\"Saved new best model with Bbox mAP: {best_map:.4f}\")"
   ]
  },
  {
   "cell_type": "code",
   "execution_count": 31,
   "id": "3a05b2d6",
   "metadata": {
    "execution": {
     "iopub.execute_input": "2025-06-25T05:46:18.723996Z",
     "iopub.status.busy": "2025-06-25T05:46:18.723787Z",
     "iopub.status.idle": "2025-06-25T05:46:18.728800Z",
     "shell.execute_reply": "2025-06-25T05:46:18.728331Z"
    },
    "papermill": {
     "duration": 0.012394,
     "end_time": "2025-06-25T05:46:18.730001",
     "exception": false,
     "start_time": "2025-06-25T05:46:18.717607",
     "status": "completed"
    },
    "tags": []
   },
   "outputs": [],
   "source": [
    "def plot_loss_history(loss_histories, num_iterations):\n",
    "    \"\"\"\n",
    "    Vẽ biểu đồ các thành phần loss theo từng iteration.\n",
    "    \n",
    "    Args:\n",
    "        loss_histories (dict): Một dict chứa các list loss, vd: \n",
    "                             {'total': [...], 'cls': [...], 'reg': [...], 'mask': [...]}\n",
    "        num_iterations (int): Tổng số lần lặp.\n",
    "    \"\"\"\n",
    "    plt.style.use('seaborn-v0_8-whitegrid')\n",
    "    fig, ax = plt.subplots(figsize=(12, 7))\n",
    "\n",
    "    iterations = range(num_iterations)\n",
    "    \n",
    "    # Vẽ từng thành phần loss\n",
    "    ax.plot(iterations, loss_histories['total'], label='Total Loss', color='red', linewidth=2)\n",
    "    ax.plot(iterations, loss_histories['cls'], label='Classifier Loss', color='blue', linestyle='--')\n",
    "    ax.plot(iterations, loss_histories['reg'], label='Box Regression Loss', color='green', linestyle='--')\n",
    "    ax.plot(iterations, loss_histories['mask'], label='Mask Loss', color='orange', linestyle='--')\n",
    "\n",
    "    # Sử dụng thang log để dễ quan sát sự thay đổi của các loss có giá trị nhỏ\n",
    "    ax.set_yscale('log')\n",
    "    \n",
    "    ax.set_title('Overfitting on a Single Batch', fontsize=16)\n",
    "    ax.set_xlabel('Training Iteration', fontsize=12)\n",
    "    ax.set_ylabel('Loss (Log Scale)', fontsize=12)\n",
    "    ax.legend(fontsize=10)\n",
    "    ax.grid(True, which=\"both\", ls=\"--\")\n",
    "    \n",
    "    plt.show()"
   ]
  },
  {
   "cell_type": "code",
   "execution_count": 32,
   "id": "ca5eea95",
   "metadata": {
    "execution": {
     "iopub.execute_input": "2025-06-25T05:46:18.742615Z",
     "iopub.status.busy": "2025-06-25T05:46:18.742452Z",
     "iopub.status.idle": "2025-06-25T05:46:18.750165Z",
     "shell.execute_reply": "2025-06-25T05:46:18.749468Z"
    },
    "papermill": {
     "duration": 0.015221,
     "end_time": "2025-06-25T05:46:18.751306",
     "exception": false,
     "start_time": "2025-06-25T05:46:18.736085",
     "status": "completed"
    },
    "tags": []
   },
   "outputs": [],
   "source": [
    "def debug_and_plot_one_batch(model, dataloader, optimizer, device, num_iterations=200):\n",
    "    \"\"\"\n",
    "    Cố gắng overfitting trên một batch duy nhất và vẽ biểu đồ loss.\n",
    "    \"\"\"\n",
    "    model.train()\n",
    "    \n",
    "    # Lấy một batch duy nhất\n",
    "    try:\n",
    "        images, targets = next(iter(dataloader))\n",
    "    except (StopIteration, TypeError):\n",
    "        print(\"Dataloader is empty or returned None. Cannot perform debug.\")\n",
    "        return\n",
    "        \n",
    "    images = [img.to(device) for img in images]\n",
    "    targets = [{k: v.to(device) for k, v in t.items()} for t in targets]\n",
    "    \n",
    "    print(\"\\n--- Starting Overfitting Debug on One Batch ---\")\n",
    "    print(f\"Using {len(images)} images. Running for {num_iterations} iterations.\")\n",
    "    \n",
    "    # [THÊM MỚI] Khởi tạo các list để lưu loss\n",
    "    loss_histories = {\n",
    "        'total': [],\n",
    "        'cls': [],\n",
    "        'reg': [],\n",
    "        'mask': []\n",
    "    }\n",
    "    \n",
    "    for i in range(num_iterations): \n",
    "        optimizer.zero_grad()\n",
    "        \n",
    "        # Hàm forward đã được sửa để trả về dict loss bao gồm cả mask\n",
    "        loss_dict = model(images, targets)\n",
    "        \n",
    "        # [THAY ĐỔI] Tính tổng loss và trích xuất các thành phần\n",
    "        loss_cls = loss_dict.get('loss_classifier', torch.tensor(0.0)).item()\n",
    "        loss_reg = loss_dict.get('loss_box_reg', torch.tensor(0.0)).item()\n",
    "        loss_mask = loss_dict.get('loss_mask', torch.tensor(0.0)).item()\n",
    "        \n",
    "        losses = sum(loss for loss in loss_dict.values())\n",
    "        total_loss = losses.item()\n",
    "        \n",
    "        # [THÊM MỚI] Lưu loss vào history\n",
    "        loss_histories['total'].append(total_loss)\n",
    "        loss_histories['cls'].append(loss_cls)\n",
    "        loss_histories['reg'].append(loss_reg)\n",
    "        loss_histories['mask'].append(loss_mask)\n",
    "            \n",
    "        # In kết quả sau mỗi 10 bước\n",
    "        if i % 10 == 0 or i == num_iterations - 1:\n",
    "            print(f\"Step {i:03d}: Total={total_loss:.4f} (Cls={loss_cls:.4f}, Reg={loss_reg:.4f}, Mask={loss_mask:.4f})\")\n",
    "            \n",
    "        # Dừng lại nếu loss là NaN/inf\n",
    "        if torch.isnan(losses) or torch.isinf(losses):\n",
    "            print(f\"Stopping debug at step {i} due to NaN/Inf loss.\")\n",
    "            break\n",
    "            \n",
    "        losses.backward()\n",
    "        # [THÊM MỚI] Clip grad norm để tránh gradient explosion, rất hữu ích khi debug\n",
    "        torch.nn.utils.clip_grad_norm_(model.parameters(), max_norm=1.0)\n",
    "        optimizer.step()\n",
    "        \n",
    "    print(\"--- Overfitting Debug Finished ---\")\n",
    "    \n",
    "    # [THÊM MỚI] Vẽ biểu đồ\n",
    "    plot_loss_history(loss_histories, num_iterations=len(loss_histories['total']))"
   ]
  },
  {
   "cell_type": "code",
   "execution_count": 33,
   "id": "b6199183",
   "metadata": {
    "execution": {
     "iopub.execute_input": "2025-06-25T05:46:18.764704Z",
     "iopub.status.busy": "2025-06-25T05:46:18.764060Z",
     "iopub.status.idle": "2025-06-25T05:47:48.383986Z",
     "shell.execute_reply": "2025-06-25T05:47:48.383202Z"
    },
    "papermill": {
     "duration": 89.628841,
     "end_time": "2025-06-25T05:47:48.386197",
     "exception": false,
     "start_time": "2025-06-25T05:46:18.757356",
     "status": "completed"
    },
    "tags": []
   },
   "outputs": [
    {
     "name": "stdout",
     "output_type": "stream",
     "text": [
      "Using device: cuda\n",
      "Loaded 1299 train images\n"
     ]
    },
    {
     "name": "stderr",
     "output_type": "stream",
     "text": [
      "Downloading: \"https://download.pytorch.org/models/resnet50-11ad3fa6.pth\" to /root/.cache/torch/hub/checkpoints/resnet50-11ad3fa6.pth\n",
      "100%|██████████| 97.8M/97.8M [00:00<00:00, 190MB/s]\n"
     ]
    },
    {
     "name": "stdout",
     "output_type": "stream",
     "text": [
      "Initializing weights for new layers...\n",
      "\n",
      "!!! RUNNING IN DEBUG MODE: OVERFITTING ONE BATCH & PLOTTING !!!\n",
      "\n",
      "--- Starting Overfitting Debug on One Batch ---\n",
      "Using 4 images. Running for 200 iterations.\n",
      "Step 000: Total=4.0717 (Cls=3.0074, Reg=1.0643, Mask=0.0000)\n",
      "Step 010: Total=3.1882 (Cls=2.4018, Reg=0.7865, Mask=0.0000)\n",
      "Step 020: Total=2.1096 (Cls=1.4291, Reg=0.6805, Mask=0.0000)\n",
      "Step 030: Total=1.7701 (Cls=1.3119, Reg=0.4583, Mask=0.0000)\n",
      "Step 040: Total=1.6329 (Cls=1.1989, Reg=0.4340, Mask=0.0000)\n",
      "Step 050: Total=2.3426 (Cls=2.0406, Reg=0.3021, Mask=0.0000)\n",
      "Step 060: Total=2.0441 (Cls=1.8524, Reg=0.1917, Mask=0.0000)\n",
      "Step 070: Total=2.3574 (Cls=2.0807, Reg=0.2767, Mask=0.0000)\n",
      "Step 080: Total=2.0877 (Cls=1.8149, Reg=0.2728, Mask=0.0000)\n",
      "Step 090: Total=1.9708 (Cls=1.8167, Reg=0.1541, Mask=0.0000)\n",
      "Step 100: Total=1.9364 (Cls=1.7844, Reg=0.1520, Mask=0.0000)\n",
      "Step 110: Total=1.6989 (Cls=1.5931, Reg=0.1058, Mask=0.0000)\n",
      "Step 120: Total=1.5042 (Cls=1.3954, Reg=0.1088, Mask=0.0000)\n",
      "Step 130: Total=1.4104 (Cls=1.3327, Reg=0.0778, Mask=0.0000)\n",
      "Step 140: Total=1.2625 (Cls=1.1647, Reg=0.0978, Mask=0.0000)\n",
      "Step 150: Total=1.1911 (Cls=1.1260, Reg=0.0650, Mask=0.0000)\n",
      "Step 160: Total=1.3321 (Cls=1.2725, Reg=0.0596, Mask=0.0000)\n",
      "Step 170: Total=1.0853 (Cls=1.0078, Reg=0.0775, Mask=0.0000)\n",
      "Step 180: Total=1.1096 (Cls=1.0279, Reg=0.0817, Mask=0.0000)\n",
      "Step 190: Total=1.2410 (Cls=1.1184, Reg=0.1226, Mask=0.0000)\n",
      "Step 199: Total=1.3914 (Cls=1.2486, Reg=0.1428, Mask=0.0000)\n",
      "--- Overfitting Debug Finished ---\n"
     ]
    },
    {
     "data": {
      "image/png": "[encoded data removed]",
      "text/plain": [
       "<Figure size 1200x700 with 1 Axes>"
      ]
     },
     "metadata": {},
     "output_type": "display_data"
    },
    {
     "name": "stdout",
     "output_type": "stream",
     "text": [
      "!!! DEBUGGING FINISHED. STOPPING EXECUTION. !!!\n"
     ]
    }
   ],
   "source": [
    "def main():\n",
    "    from torch.optim.lr_scheduler import StepLR\n",
    "\n",
    "    device = torch.device(\"cuda\" if torch.cuda.is_available() else \"cpu\")\n",
    "    print(f\"Using device: {device}\")\n",
    "    \n",
    "    IMAGE_SIZE = (512, 512)\n",
    "    BATCH_SIZE = 4 \n",
    "    LEARNING_RATE = 0.001 # Có thể tăng LR một chút để thấy loss giảm nhanh hơn khi debug\n",
    "    NUM_EPOCHS = 20\n",
    "    DATA_ROOT = \"/kaggle/working/cityscapes\"\n",
    "\n",
    "    train_dataset = CityscapesMaskRCNNDataset(root_dir=DATA_ROOT, set_type='train', image_size=IMAGE_SIZE)\n",
    "    train_loader = DataLoader(train_dataset, batch_size=BATCH_SIZE, shuffle=True, collate_fn=collate_fn, num_workers=0)\n",
    "\n",
    "    model = MaskRCNN(num_classes=NUM_CLASSES).to(device)\n",
    "    \n",
    "    params = [p for p in model.parameters() if p.requires_grad]\n",
    "    optimizer = optim.SGD(params, lr=LEARNING_RATE, momentum=0.9, weight_decay=0.0005)\n",
    "    \n",
    "    # --- [KÍCH HOẠT DEBUG] ---\n",
    "    # Bỏ comment các dòng dưới đây để chạy chế độ debug.\n",
    "    # Chương trình sẽ dừng lại sau khi chạy xong phần này.\n",
    "    print(\"\\n!!! RUNNING IN DEBUG MODE: OVERFITTING ONE BATCH & PLOTTING !!!\")\n",
    "    debug_and_plot_one_batch(model, train_loader, optimizer, device, num_iterations=200)\n",
    "    print(\"!!! DEBUGGING FINISHED. STOPPING EXECUTION. !!!\")\n",
    "    return \n",
    "    # --- KẾT THÚC DEBUG ---\n",
    "\n",
    "    # Các dòng code dưới đây sẽ không được chạy khi đang debug\n",
    "    val_dataset = CityscapesMaskRCNNDataset(root_dir=DATA_ROOT, set_type='val', image_size=IMAGE_SIZE)\n",
    "    val_loader = DataLoader(val_dataset, batch_size=BATCH_SIZE, collate_fn=collate_fn, num_workers=0)\n",
    "    scheduler = StepLR(optimizer, step_size=5, gamma=0.1)\n",
    "    train(model, train_loader, val_loader, optimizer, scheduler, device, num_epochs=NUM_EPOCHS)\n",
    "\n",
    "if __name__ == \"__main__\":\n",
    "    # Đừng quên thêm các hàm mới vào file của bạn\n",
    "    # ví dụ: plot_loss_history và phiên bản mới của debug_and_plot_one_batch\n",
    "    main()"
   ]
  },
  {
   "cell_type": "code",
   "execution_count": 34,
   "id": "70223c2b",
   "metadata": {
    "execution": {
     "iopub.execute_input": "2025-06-25T05:47:48.405999Z",
     "iopub.status.busy": "2025-06-25T05:47:48.405753Z",
     "iopub.status.idle": "2025-06-25T05:49:17.527669Z",
     "shell.execute_reply": "2025-06-25T05:49:17.526959Z"
    },
    "papermill": {
     "duration": 89.134339,
     "end_time": "2025-06-25T05:49:17.530477",
     "exception": false,
     "start_time": "2025-06-25T05:47:48.396138",
     "status": "completed"
    },
    "tags": []
   },
   "outputs": [
    {
     "name": "stdout",
     "output_type": "stream",
     "text": [
      "Using device: cuda\n",
      "Loaded 1299 train images\n",
      "Initializing weights for new layers...\n",
      "\n",
      "!!! RUNNING IN DEBUG MODE: OVERFITTING ONE BATCH & PLOTTING !!!\n",
      "\n",
      "--- Starting Overfitting Debug on One Batch ---\n",
      "Using 4 images. Running for 200 iterations.\n",
      "Step 000: Total=3.8082 (Cls=2.9080, Reg=0.9002, Mask=0.0000)\n",
      "Step 010: Total=2.9586 (Cls=2.1793, Reg=0.7793, Mask=0.0000)\n",
      "Step 020: Total=1.8121 (Cls=1.2055, Reg=0.6066, Mask=0.0000)\n",
      "Step 030: Total=1.6584 (Cls=1.2105, Reg=0.4479, Mask=0.0000)\n",
      "Step 040: Total=1.4843 (Cls=1.0942, Reg=0.3901, Mask=0.0000)\n",
      "Step 050: Total=1.4081 (Cls=1.0823, Reg=0.3258, Mask=0.0000)\n",
      "Step 060: Total=1.2902 (Cls=1.0685, Reg=0.2217, Mask=0.0000)\n",
      "Step 070: Total=1.2498 (Cls=1.0536, Reg=0.1962, Mask=0.0000)\n",
      "Step 080: Total=1.1925 (Cls=1.0164, Reg=0.1761, Mask=0.0000)\n",
      "Step 090: Total=1.3002 (Cls=1.1234, Reg=0.1768, Mask=0.0000)\n",
      "Step 100: Total=1.2262 (Cls=1.0661, Reg=0.1600, Mask=0.0000)\n",
      "Step 110: Total=1.1474 (Cls=1.0073, Reg=0.1401, Mask=0.0000)\n",
      "Step 120: Total=1.1897 (Cls=1.0298, Reg=0.1599, Mask=0.0000)\n",
      "Step 130: Total=1.4796 (Cls=1.3444, Reg=0.1352, Mask=0.0000)\n",
      "Step 140: Total=1.6853 (Cls=1.5544, Reg=0.1310, Mask=0.0000)\n",
      "Step 150: Total=2.3346 (Cls=2.1049, Reg=0.2297, Mask=0.0000)\n",
      "Step 160: Total=2.7562 (Cls=2.6520, Reg=0.1041, Mask=0.0000)\n",
      "Step 170: Total=3.2865 (Cls=2.7196, Reg=0.5668, Mask=0.0000)\n",
      "Step 180: Total=2.7464 (Cls=2.5766, Reg=0.1698, Mask=0.0000)\n",
      "Step 190: Total=2.8298 (Cls=2.7314, Reg=0.0983, Mask=0.0000)\n",
      "Step 199: Total=2.7016 (Cls=2.6292, Reg=0.0724, Mask=0.0000)\n",
      "--- Overfitting Debug Finished ---\n"
     ]
    },
    {
     "data": {
      "image/png": "[encoded data removed]",
      "text/plain": [
       "<Figure size 1200x700 with 1 Axes>"
      ]
     },
     "metadata": {},
     "output_type": "display_data"
    },
    {
     "name": "stdout",
     "output_type": "stream",
     "text": [
      "!!! DEBUGGING FINISHED. STOPPING EXECUTION. !!!\n"
     ]
    }
   ],
   "source": [
    "if __name__ == \"__main__\":\n",
    "    main()"
   ]
  }
 ],
 "metadata": {
  "kaggle": {
   "accelerator": "nvidiaTeslaT4",
   "dataSources": [
    {
     "datasetId": 7718211,
     "sourceId": 12249344,
     "sourceType": "datasetVersion"
    }
   ],
   "isGpuEnabled": true,
   "isInternetEnabled": true,
   "language": "python",
   "sourceType": "notebook"
  },
  "kernelspec": {
   "display_name": "Python 3",
   "language": "python",
   "name": "python3"
  },
  "language_info": {
   "codemirror_mode": {
    "name": "ipython",
    "version": 3
   },
   "file_extension": ".py",
   "mimetype": "text/x-python",
   "name": "python",
   "nbconvert_exporter": "python",
   "pygments_lexer": "ipython3",
   "version": "3.11.11"
  },
  "papermill": {
   "default_parameters": {},
   "duration": 328.44846,
   "end_time": "2025-06-25T05:49:20.871016",
   "environment_variables": {},
   "exception": null,
   "input_path": "__notebook__.ipynb",
   "output_path": "__notebook__.ipynb",
   "parameters": {},
   "start_time": "2025-06-25T05:43:52.422556",
   "version": "2.6.0"
  }
 },
 "nbformat": 4,
 "nbformat_minor": 5
}
